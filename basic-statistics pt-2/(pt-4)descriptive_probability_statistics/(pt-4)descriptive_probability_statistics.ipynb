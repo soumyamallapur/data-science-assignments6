{
 "cells": [
  {
   "cell_type": "code",
   "execution_count": 1,
   "id": "0cb59e43",
   "metadata": {},
   "outputs": [],
   "source": [
    "import pandas as pd\n",
    "import numpy as np\n",
    "import matplotlib.pyplot as plt\n",
    "import scipy.stats as stats\n",
    "import seaborn as sns\n",
    "import statsmodels.api as smf\n",
    "import warnings\n",
    "warnings.filterwarnings('ignore')"
   ]
  },
  {
   "cell_type": "markdown",
   "id": "b57f284e",
   "metadata": {},
   "source": [
    "### 3. Auditors at a small community bank randomly sample 100 withdrawal transactions made during the week at an ATM machine located near the bank’s main branch. Over the past 2 years, the average withdrawal amount has been 50 USD with a standard deviation of 40 USD. Since audit investigations are typically expensive, the auditors decide to not initiate further investigations if the mean transaction amount of the sample is between 45 USD and 55 USD. What is the probability that in any given week, there will be an investigation?"
   ]
  },
  {
   "cell_type": "code",
   "execution_count": 3,
   "id": "ef4f3f4c",
   "metadata": {},
   "outputs": [
    {
     "name": "stdout",
     "output_type": "stream",
     "text": [
      "The probability that in any given week, there will be an investigation is 21.4 %\n"
     ]
    }
   ],
   "source": [
    "mean = 50\n",
    "std = 40\n",
    "n = 100\n",
    "d_f = 100 - 1 #degree of freedom\n",
    "#the probability that there will be an investigation,\n",
    "#if the mean transactions amount increases more than 55 USD or less than 45 USD\n",
    "# no investigation if the mean transactions amount remains between 45 to 55 USD\n",
    "# we will go for t-distribution as population standard deviation is unknown\n",
    "forty_five = (45-50)/(40/np.sqrt(100))\n",
    "fifty_five = (55-50)/(40/np.sqrt(100))\n",
    "forty_five = stats.t.cdf(forty_five, df = d_f)\n",
    "fifty_five = stats.t.cdf(fifty_five, d_f)\n",
    "probability = fifty_five - forty_five\n",
    "np.round(stats.t.interval(alpha = probability, df = d_f, loc = mean, scale = std/np.sqrt(n)),)\n",
    "print('The probability that in any given week, there will be an investigation is',np.round((1-probability)*100,1),'%')\n"
   ]
  },
  {
   "cell_type": "markdown",
   "id": "37b0f146",
   "metadata": {},
   "source": [
    "### 4. The auditors from the above example would like to maintain the probability of investigation to 5%. Which of the following represents the minimum number transactions that they should sample if they do not want to change the thresholds of 45 and 55? Assume that the sample statistics remain unchanged.¶"
   ]
  },
  {
   "cell_type": "code",
   "execution_count": 4,
   "id": "746bc2a6",
   "metadata": {},
   "outputs": [
    {
     "name": "stdout",
     "output_type": "stream",
     "text": [
      "The Auditors would like to maintain the probability of investigation to 5%, they should sample 248.0 transactions if they do not want to change the thresholds of 45 to 55\n",
      "248.3776 247.3776\n"
     ]
    },
    {
     "data": {
      "text/plain": [
       "array([45., 55.])"
      ]
     },
     "execution_count": 4,
     "metadata": {},
     "output_type": "execute_result"
    }
   ],
   "source": [
    "x_bar = 45\n",
    "s_std = 40\n",
    "mew = 50\n",
    "t = np.round(stats.t.ppf(0.025, df = 249),2)\n",
    "# t_value = (x_bar - mew)/(sample_std/n**0.5)\n",
    "# t = 45-50 or z = 55-50 z = +/- 5\n",
    "# t = 5/(40/n**0.5)\n",
    "# n = (sample_standard_deviation*tscore)/(sample_mean=population_mean)\n",
    "n = ((s_std*abs(t)) / (5))**2\n",
    "print('The Auditors would like to maintain the probability of investigation to 5%, they should sample',np.round(n,),'transactions if they do not want to change the thresholds of 45 to 55')\n",
    "df= n-1\n",
    "print(n, df)\n",
    "np.round(stats.t.interval(alpha = 0.95, df = df, loc = mew, scale = s_std/np.sqrt(n)),)"
   ]
  },
  {
   "cell_type": "code",
   "execution_count": null,
   "id": "e0f18ce8",
   "metadata": {},
   "outputs": [],
   "source": []
  }
 ],
 "metadata": {
  "kernelspec": {
   "display_name": "Python 3 (ipykernel)",
   "language": "python",
   "name": "python3"
  },
  "language_info": {
   "codemirror_mode": {
    "name": "ipython",
    "version": 3
   },
   "file_extension": ".py",
   "mimetype": "text/x-python",
   "name": "python",
   "nbconvert_exporter": "python",
   "pygments_lexer": "ipython3",
   "version": "3.10.9"
  }
 },
 "nbformat": 4,
 "nbformat_minor": 5
}
